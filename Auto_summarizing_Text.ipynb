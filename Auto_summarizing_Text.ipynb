{
  "nbformat": 4,
  "nbformat_minor": 0,
  "metadata": {
    "colab": {
      "name": "Auto-summarizing Text.ipynb",
      "provenance": [],
      "collapsed_sections": [
        "ol60ajQas7FZ"
      ]
    },
    "kernelspec": {
      "name": "python3",
      "display_name": "Python 3"
    }
  },
  "cells": [
    {
      "cell_type": "markdown",
      "metadata": {
        "id": "_31OPKM1XRbw",
        "colab_type": "text"
      },
      "source": [
        "# Auto-summarizing Text\n"
      ]
    },
    {
      "cell_type": "markdown",
      "metadata": {
        "id": "Q6lwj8JCoAoF",
        "colab_type": "text"
      },
      "source": [
        "## Setup"
      ]
    },
    {
      "cell_type": "code",
      "metadata": {
        "id": "SyIB1XaXn_uA",
        "colab_type": "code",
        "colab": {
          "base_uri": "https://localhost:8080/",
          "height": 102
        },
        "outputId": "ef9ebaad-4d1d-42d6-b134-a00bbf90e1a7"
      },
      "source": [
        "import nltk\n",
        "nltk.download('punkt')\n",
        "nltk.download('stopwords')"
      ],
      "execution_count": 19,
      "outputs": [
        {
          "output_type": "stream",
          "text": [
            "[nltk_data] Downloading package punkt to /root/nltk_data...\n",
            "[nltk_data]   Package punkt is already up-to-date!\n",
            "[nltk_data] Downloading package stopwords to /root/nltk_data...\n",
            "[nltk_data]   Unzipping corpora/stopwords.zip.\n"
          ],
          "name": "stdout"
        },
        {
          "output_type": "execute_result",
          "data": {
            "text/plain": [
              "True"
            ]
          },
          "metadata": {
            "tags": []
          },
          "execution_count": 19
        }
      ]
    },
    {
      "cell_type": "code",
      "metadata": {
        "id": "nKXi66X_mTu0",
        "colab_type": "code",
        "colab": {}
      },
      "source": [
        "from bs4 import BeautifulSoup\n",
        "from urllib.request import urlopen\n",
        "from nltk.tokenize import sent_tokenize,word_tokenize\n",
        "from nltk.corpus import stopwords\n",
        "from nltk.probability import FreqDist\n",
        "from string import punctuation\n",
        "from collections import defaultdict\n",
        "from heapq import nlargest"
      ],
      "execution_count": 0,
      "outputs": []
    },
    {
      "cell_type": "markdown",
      "metadata": {
        "id": "fY-uTU-Dp31h",
        "colab_type": "text"
      },
      "source": [
        "## Get some text sample"
      ]
    },
    {
      "cell_type": "markdown",
      "metadata": {
        "id": "_kZ6AyUFm5mp",
        "colab_type": "text"
      },
      "source": [
        "Fetch some text and clean so its ready for analysis"
      ]
    },
    {
      "cell_type": "code",
      "metadata": {
        "id": "zAoKXC8LXKMO",
        "colab_type": "code",
        "colab": {
          "base_uri": "https://localhost:8080/",
          "height": 54
        },
        "outputId": "330b2293-7c62-4166-d292-97cb1a93ec16"
      },
      "source": [
        "url = \"https://www.washingtonpost.com/health/2020/05/28/children-with-perplexing-syndrome-linked-covid-19-may-be-experiencing-deadly-cytokine-storm/\"\n",
        "page = urlopen(url).read().decode('utf8', 'ignore')\n",
        "soup = BeautifulSoup(page, \"lxml\") #BeautifulSoup create a tree structure.\n",
        "text = ' '.join(map(lambda p: p.text, soup.find_all('article'))) #Join the text of each articles\n",
        "parsed_text =  text.encode('ascii', errors='replace').decode(\"utf-8\").replace(\"?\", \"\") # Removing encoding characters\n",
        "\n",
        "print(parsed_text)\n"
      ],
      "execution_count": 5,
      "outputs": [
        {
          "output_type": "stream",
          "text": [
            "A New York City Police Department officer watches as children play in the Elmhurst section of Queens.  (Brendan McDermid)By Ariana Eunjung ChacloseAriana Eunjung ChaNational reporterEmailEmailBioBioFollowFollowMay 28, 2020 at 9:01 PM EDTThe four children showed up at the Mount Sinai Kravis Childrens Hospital in late April and early May, almost exactly one month after the peak of New York Citys coronavirus surge. All had fevers, rashes and strange blood readings that did not look like any illness doctors had seen before. And yet, the cases looked remarkably similar to one another.A study about the children, ages 13, 12, 10, and 5, published in the American Journal of Emergency Medicine, provides the first detailed look at the rapid progression of a mysterious syndrome linked to covid-19 that has alarmed public health officials.The Centers for Disease Control and Prevention earlier this month issued an alert warning doctors to be on the lookout for what they are calling multisystem inflammatory syndrome in children, or MIS-C, which is now believed to have impacted approximately 300 U.S. children. It appears to have some characteristics in common with Kawasaki disease, a rare illness that typically impacts children under the age of 5 and whose cause is unknown.ADADThere have been at least five children in the United States who have died from the coronavirus-related condition: three in New York State, a 15-year-old girl in Maryland, and a child in Louisiana.At Mount Sinai, the children, who came through the emergency department, all appeared well initially despite having multi-day fevers. Each complained of different symptoms, but blood tests, imaging and heart monitoring showed they all appeared to be having an exaggerated inflammatory reaction in what doctors suspect is post-viral complication of covid-19.Christopher Strother, the director of emergency medicine at Mount Sinai, described it as the pediatric version of the cytokine storm occurring in some adults with severe illness from the novel coronavirus.ADSign up for our Coronavirus Updates newsletter to track the outbreak. All stories linked in the newsletter are free to access.Sign up for our Coronavirus Updates newsletter to track the outbreak. All stories linked in the newsletter are free to access.When adults get covid they might get that terrible lung disease from the inflammatory response, he said. This seems a version of how that looks in kids.ADAll four children were treated with a drug called tocilizumab to inhibit the inflammatory reaction. The papers authors wrote that the mechanism of injury during cytokine storm is poorly understood, but an exaggerated initial response that persists over time is associated with poor outcomes.The first child to arrive at Mount Sinai on Apr. 25 was Malcolm Edgar, a previously healthy 13-year-old from Brooklyn. Edgar, an athlete who is the third baseman and pitcher on a competitive baseball team, had had six days of fever that shot up to 104 degrees. When he woke up on the 25th, he had bloodshot eyes and a rash on the trunk of his body. His tongue had what they described as an odd strawberry texture.ADAt the hospital, doctors ran a battery of tests and his initial vitals seemed fine, except for a slightly elevated heart rate. So they gave him fluids and asked him to wait for the results. Strother recalls that the report he got from the doctor overseeing Malcolms care was that he was walking around the ER eating cheese, and that he actually looked quite well.ADBut as the night wore on and the nurses kept checking his blood pressure, his readings plummeted. Malcolm himself remembers he was very tired, but not in any pain and that he had been begging to go home.I was kind of confused about what was going on, he said in an interview Thursday. Everything seemed fine in my checkup, and then they said my blood pressure was low and thats when everything got crazy.Over the next few days, his situation became dire. Imaging showed that he appeared to have pneumonia in both lower lungs, and as he progressed to respiratory failure, he was put on a ventilator.ADHis mother Ayisha Edgar was at the hospital with him. I just broke down, she recalled. It was very hard for me.Blood tests showed markers of inflammation and clotting were off-the-charts elevated. Malcolms heart was not working properly, as his arteries showed signs of being enlarged. Meanwhile, three tests doctors gave him for active covid-19 infection came back negative, but an antibody test was positive, indicating he had a prior infection.His father Sean Edgar, recalled that he and his wife had been sick with mild flu-like symptoms the month before. They lost their sense of taste and smell, but otherwise didnt think much of their illness. Now they wondered if their son had been infected then, too, although he had showed no symptoms. After Malcolms hospital stay, they got tested for covid-19 antibodies and it turned out both had them.The second patient was a 10-year-old boy who had had a positive covid-19 test 17 days prior. He had come in after five days of fever, diarrhea, cough and a rash all over his body, including his neck, chest, abdomen, back, palms and soles. On his back, there were dusky areas, according to the paper.ADAD[H]e was in no acute distress but complained of general discomfort, the studys authors wrote. His fast heart rate and low blood pressure were worrisome, but his breathing was normal. In intensive care, he received blood pressure medication, with an immunoglobulin product that is normally given to patients with Kawasaki disease, and the same immunosuppressant given to the other patients in the study.The third patient, a 5-year-old boy, had five days of fever, one day of stomach pains and vomiting. He, too, had a rapid heart rate. He was stable for 24 hours until an ultrasound showed he had inflammation in his testicles and thickening gallbladder walls. His blood pressure fell to an emergency-level low of 61/37. In intensive care, the boy also received medication typically used for Kawasaki patients and an anti-inflammatory drug.The last patients case was the mildest. The 12-year-old girl had initially been suspected of having appendicitis. She didnt have a rash, but after running tests, doctors discovered that her heart was beating super fast  a problem because it means the heart can have trouble filling with blood because it is contracting too rapidly  and her temperature climbed to almost 103 degrees.ADADAll four children have recovered, Strother said, and are back home now.Malcolm lost 20 pounds in during his 11-day stay the hospital, but did so well after he was off the ventilator that he walked out of the hospital to the cheers of the staff. Hes returned to his schools Zoom classes and is now strong enough to play some basketball in his backyard and go walk around the local high school track with his dad. He expects to be able to return to playing sports by July.Sean Edgar says that he would advise other parents who see odd symptoms in their children not to wait: And if you have to take your child to a hospital, go to a childrens hospital. That was the best choice we made.ADStrother urged doctors who see children with persistent fever to err on the side of caution when monitoring them and ordering tests.ADThe trouble is the children look pretty good even when their blood pressure starts to go down, he said. You have to be vigilant.Read more:The girl who died twice: Juliet Daly was a healthy 12-year-old in Covington, La., until the coronavirus infected her heartYoung adults in their 20s are also affected by Kawasaki-like disease linked to coronavirus, doctors sayFrostbite toes and other peculiar rashes may be signs of hidden coronavirus infection, especially in the youngcomment0 CommentsGet our Coronavirus Updates newsletterReceive the most important pandemic developments in your inbox every day. All stories linked in the newsletter are free to access.By signing up you agree to our Terms of Use and PrivacyPolicy\n"
          ],
          "name": "stdout"
        }
      ]
    },
    {
      "cell_type": "markdown",
      "metadata": {
        "id": "FeY05iV7qCCj",
        "colab_type": "text"
      },
      "source": [
        "## Summarise text\n",
        "\n",
        "**Approach**:\n",
        "1. Find the most important words: authors tend to repeat the words which are more important. Most repeated words will define its importance. The higher the frequency, the higher the importance. It is important to remove the stop words, as they will be the ones repeated the most and confuse the auto summarizing algorithm.\n",
        "2. Compute significance score for sentences based on words they contain: give a weight on the most important words. Sum of all important words.\n",
        "3. Pick the top most significant sentences"
      ]
    },
    {
      "cell_type": "markdown",
      "metadata": {
        "id": "ol60ajQas7FZ",
        "colab_type": "text"
      },
      "source": [
        "### Step 1: find the most important words"
      ]
    },
    {
      "cell_type": "markdown",
      "metadata": {
        "id": "-2IjFWVVpYDt",
        "colab_type": "text"
      },
      "source": [
        "List of words in the articles"
      ]
    },
    {
      "cell_type": "code",
      "metadata": {
        "id": "MisZUHqDpXrG",
        "colab_type": "code",
        "colab": {
          "base_uri": "https://localhost:8080/",
          "height": 34
        },
        "outputId": "5b429127-3b62-41f6-b5bb-508e746a9117"
      },
      "source": [
        "words = word_tokenize(parsed_text.lower())\n",
        "print (\"Number of words retrieved: \" + str(len(words)))"
      ],
      "execution_count": 24,
      "outputs": [
        {
          "output_type": "stream",
          "text": [
            "Number of words retrieved: 1445\n"
          ],
          "name": "stdout"
        }
      ]
    },
    {
      "cell_type": "markdown",
      "metadata": {
        "id": "bm-vy7Caokfm",
        "colab_type": "text"
      },
      "source": [
        "Get a list of stopwords (nltk.corpus) and punctuations (string) to ignore while analyzing."
      ]
    },
    {
      "cell_type": "code",
      "metadata": {
        "id": "nHnmZfzHoneu",
        "colab_type": "code",
        "colab": {
          "base_uri": "https://localhost:8080/",
          "height": 54
        },
        "outputId": "8ebeea54-ad47-4f5f-eeca-32b3cdadc9d7"
      },
      "source": [
        "english_stopwords = set(stopwords.words('english') + list(punctuation))\n",
        "print (english_stopwords)"
      ],
      "execution_count": 21,
      "outputs": [
        {
          "output_type": "stream",
          "text": [
            "{\"wouldn't\", 'm', 'myself', 'when', 'through', 'by', 'which', 'll', 't', 'few', 'needn', 'more', 'yourselves', 'these', 've', '.', 'of', 'up', 'theirs', \"doesn't\", 'were', 'on', 'can', '#', 'from', \"you've\", 'out', 'in', \"aren't\", '$', 'didn', \"weren't\", \"mustn't\", ']', '!', 'until', 'is', 'for', 'my', 'have', 'o', 'ma', 're', '&', 'too', 'about', 'those', '~', 'while', \"you're\", 'themselves', 'shouldn', \"don't\", 'she', 'both', 'y', '\"', 'his', 'mustn', 'into', 'once', 'am', 'will', '*', 'aren', 'same', '=', 'i', 'than', 'been', 'very', 'haven', 'ours', \"haven't\", 'your', \"won't\", 'does', '%', 'being', '|', 'had', 'a', 'some', ',', 'that', 'how', 'are', 'ain', \"didn't\", 'ourselves', 'against', 'before', 'me', 'yours', \"you'll\", 'hasn', 'but', ';', 'down', 'isn', \"couldn't\", 'him', 'further', 'herself', ':', 'at', \"needn't\", 'won', 'each', \"shouldn't\", 'has', '_', 'mightn', 'not', 'you', 'yourself', 'during', ')', 'no', 'below', '<', 'don', '[', \"mightn't\", 'only', \"hasn't\", 'now', 'itself', 'was', 'just', 'hers', '@', 'wouldn', 'an', \"wasn't\", 'all', \"should've\", 'own', 'wasn', '/', 'her', 'they', 'because', 'again', '^', 'weren', 'the', '-', 'their', '?', 'did', 'between', 'do', \"isn't\", \"you'd\", 'then', \"shan't\", 'doing', 'or', 'our', 'he', 'where', 'so', 'doesn', '{', 'why', '\\\\', '+', 'should', 'be', 'there', 's', 'as', 'couldn', \"it's\", 'its', 'who', 'whom', 'over', 'it', 'hadn', '(', \"'\", \"hadn't\", \"she's\", 'here', 'such', 'to', 'them', 'd', 'and', \"that'll\", 'other', 'shan', 'under', 'what', 'nor', 'having', 'most', 'himself', '>', 'with', '`', '}', 'if', 'after', 'we', 'above', 'off', 'any', 'this'}\n"
          ],
          "name": "stdout"
        }
      ]
    },
    {
      "cell_type": "markdown",
      "metadata": {
        "id": "q4isi3Ltqm-c",
        "colab_type": "text"
      },
      "source": [
        "Filter the words"
      ]
    },
    {
      "cell_type": "code",
      "metadata": {
        "id": "HbYUZTG1qngs",
        "colab_type": "code",
        "colab": {
          "base_uri": "https://localhost:8080/",
          "height": 34
        },
        "outputId": "fb278294-3d1f-485e-8598-cd71d8394f0b"
      },
      "source": [
        "filtered_words = [word for word in words if word not in english_stopwords]\n",
        "print (\"Number of words kept after filtering: \" + str(len(filtered_words)))"
      ],
      "execution_count": 25,
      "outputs": [
        {
          "output_type": "stream",
          "text": [
            "Number of words kept after filtering: 732\n"
          ],
          "name": "stdout"
        }
      ]
    },
    {
      "cell_type": "markdown",
      "metadata": {
        "id": "GN93Fo1MtYHE",
        "colab_type": "text"
      },
      "source": [
        "### Step 2: Compute significance score"
      ]
    },
    {
      "cell_type": "markdown",
      "metadata": {
        "id": "a1eoAolsrMr5",
        "colab_type": "text"
      },
      "source": [
        "Compute the frequency for each words using the FreqDist method (nltk.probability)\n"
      ]
    },
    {
      "cell_type": "code",
      "metadata": {
        "id": "BzUrUNUUrRx7",
        "colab_type": "code",
        "colab": {
          "base_uri": "https://localhost:8080/",
          "height": 34
        },
        "outputId": "b34ab476-20f5-45c2-f298-02c9a52a293b"
      },
      "source": [
        "words_frequency = FreqDist(filtered_words)\n",
        "print(type(words_frequency))"
      ],
      "execution_count": 32,
      "outputs": [
        {
          "output_type": "stream",
          "text": [
            "<class 'nltk.probability.FreqDist'>\n"
          ],
          "name": "stdout"
        }
      ]
    },
    {
      "cell_type": "markdown",
      "metadata": {
        "id": "A-XApS6soQKK",
        "colab_type": "text"
      },
      "source": [
        "Split the articles into sentences:"
      ]
    },
    {
      "cell_type": "code",
      "metadata": {
        "id": "cOR0g9XynIJo",
        "colab_type": "code",
        "colab": {
          "base_uri": "https://localhost:8080/",
          "height": 54
        },
        "outputId": "6a782533-7b73-4080-8abf-97c2af03fe9c"
      },
      "source": [
        "sentences = sent_tokenize(parsed_text)\n",
        "print(sentences)"
      ],
      "execution_count": 15,
      "outputs": [
        {
          "output_type": "stream",
          "text": [
            "['A New York City Police Department officer watches as children play in the Elmhurst section of Queens.', '(Brendan McDermid)By Ariana Eunjung ChacloseAriana Eunjung ChaNational reporterEmailEmailBioBioFollowFollowMay 28, 2020 at 9:01 PM EDTThe four children showed up at the Mount Sinai Kravis Childrens Hospital in late April and early May, almost exactly one month after the peak of New York Citys coronavirus surge.', 'All had fevers, rashes and strange blood readings that did not look like any illness doctors had seen before.', 'And yet, the cases looked remarkably similar to one another.A study about the children, ages 13, 12, 10, and 5, published in the American Journal of Emergency Medicine, provides the first detailed look at the rapid progression of a mysterious syndrome linked to covid-19 that has alarmed public health officials.The Centers for Disease Control and Prevention earlier this month issued an alert warning doctors to be on the lookout for what they are calling multisystem inflammatory syndrome in children, or MIS-C, which is now believed to have impacted approximately 300 U.S. children.', 'It appears to have some characteristics in common with Kawasaki disease, a rare illness that typically impacts children under the age of 5 and whose cause is unknown.ADADThere have been at least five children in the United States who have died from the coronavirus-related condition: three in New York State, a 15-year-old girl in Maryland, and a child in Louisiana.At Mount Sinai, the children, who came through the emergency department, all appeared well initially despite having multi-day fevers.', 'Each complained of different symptoms, but blood tests, imaging and heart monitoring showed they all appeared to be having an exaggerated inflammatory reaction in what doctors suspect is post-viral complication of covid-19.Christopher Strother, the director of emergency medicine at Mount Sinai, described it as the pediatric version of the cytokine storm occurring in some adults with severe illness from the novel coronavirus.ADSign up for our Coronavirus Updates newsletter to track the outbreak.', 'All stories linked in the newsletter are free to access.Sign up for our Coronavirus Updates newsletter to track the outbreak.', 'All stories linked in the newsletter are free to access.When adults get covid they might get that terrible lung disease from the inflammatory response, he said.', 'This seems a version of how that looks in kids.ADAll four children were treated with a drug called tocilizumab to inhibit the inflammatory reaction.', 'The papers authors wrote that the mechanism of injury during cytokine storm is poorly understood, but an exaggerated initial response that persists over time is associated with poor outcomes.The first child to arrive at Mount Sinai on Apr.', '25 was Malcolm Edgar, a previously healthy 13-year-old from Brooklyn.', 'Edgar, an athlete who is the third baseman and pitcher on a competitive baseball team, had had six days of fever that shot up to 104 degrees.', 'When he woke up on the 25th, he had bloodshot eyes and a rash on the trunk of his body.', 'His tongue had what they described as an odd strawberry texture.ADAt the hospital, doctors ran a battery of tests and his initial vitals seemed fine, except for a slightly elevated heart rate.', 'So they gave him fluids and asked him to wait for the results.', 'Strother recalls that the report he got from the doctor overseeing Malcolms care was that he was walking around the ER eating cheese, and that he actually looked quite well.ADBut as the night wore on and the nurses kept checking his blood pressure, his readings plummeted.', 'Malcolm himself remembers he was very tired, but not in any pain and that he had been begging to go home.I was kind of confused about what was going on, he said in an interview Thursday.', 'Everything seemed fine in my checkup, and then they said my blood pressure was low and thats when everything got crazy.Over the next few days, his situation became dire.', 'Imaging showed that he appeared to have pneumonia in both lower lungs, and as he progressed to respiratory failure, he was put on a ventilator.ADHis mother Ayisha Edgar was at the hospital with him.', 'I just broke down, she recalled.', 'It was very hard for me.Blood tests showed markers of inflammation and clotting were off-the-charts elevated.', 'Malcolms heart was not working properly, as his arteries showed signs of being enlarged.', 'Meanwhile, three tests doctors gave him for active covid-19 infection came back negative, but an antibody test was positive, indicating he had a prior infection.His father Sean Edgar, recalled that he and his wife had been sick with mild flu-like symptoms the month before.', 'They lost their sense of taste and smell, but otherwise didnt think much of their illness.', 'Now they wondered if their son had been infected then, too, although he had showed no symptoms.', 'After Malcolms hospital stay, they got tested for covid-19 antibodies and it turned out both had them.The second patient was a 10-year-old boy who had had a positive covid-19 test 17 days prior.', 'He had come in after five days of fever, diarrhea, cough and a rash all over his body, including his neck, chest, abdomen, back, palms and soles.', 'On his back, there were dusky areas, according to the paper.ADAD[H]e was in no acute distress but complained of general discomfort, the studys authors wrote.', 'His fast heart rate and low blood pressure were worrisome, but his breathing was normal.', 'In intensive care, he received blood pressure medication, with an immunoglobulin product that is normally given to patients with Kawasaki disease, and the same immunosuppressant given to the other patients in the study.The third patient, a 5-year-old boy, had five days of fever, one day of stomach pains and vomiting.', 'He, too, had a rapid heart rate.', 'He was stable for 24 hours until an ultrasound showed he had inflammation in his testicles and thickening gallbladder walls.', 'His blood pressure fell to an emergency-level low of 61/37.', 'In intensive care, the boy also received medication typically used for Kawasaki patients and an anti-inflammatory drug.The last patients case was the mildest.', 'The 12-year-old girl had initially been suspected of having appendicitis.', 'She didnt have a rash, but after running tests, doctors discovered that her heart was beating super fast  a problem because it means the heart can have trouble filling with blood because it is contracting too rapidly  and her temperature climbed to almost 103 degrees.ADADAll four children have recovered, Strother said, and are back home now.Malcolm lost 20 pounds in during his 11-day stay the hospital, but did so well after he was off the ventilator that he walked out of the hospital to the cheers of the staff.', 'Hes returned to his schools Zoom classes and is now strong enough to play some basketball in his backyard and go walk around the local high school track with his dad.', 'He expects to be able to return to playing sports by July.Sean Edgar says that he would advise other parents who see odd symptoms in their children not to wait: And if you have to take your child to a hospital, go to a childrens hospital.', 'That was the best choice we made.ADStrother urged doctors who see children with persistent fever to err on the side of caution when monitoring them and ordering tests.ADThe trouble is the children look pretty good even when their blood pressure starts to go down, he said.', 'You have to be vigilant.Read more:The girl who died twice: Juliet Daly was a healthy 12-year-old in Covington, La., until the coronavirus infected her heartYoung adults in their 20s are also affected by Kawasaki-like disease linked to coronavirus, doctors sayFrostbite toes and other peculiar rashes may be signs of hidden coronavirus infection, especially in the youngcomment0 CommentsGet our Coronavirus Updates newsletterReceive the most important pandemic developments in your inbox every day.', 'All stories linked in the newsletter are free to access.By signing up you agree to our Terms of Use and PrivacyPolicy']\n"
          ],
          "name": "stdout"
        }
      ]
    },
    {
      "cell_type": "markdown",
      "metadata": {
        "id": "Jv8_Wmfo62Nl",
        "colab_type": "text"
      },
      "source": [
        "Define the rank of each sentence, by incrementing a counter by its own word frequency."
      ]
    },
    {
      "cell_type": "code",
      "metadata": {
        "id": "ZQ2V1M5X7l0R",
        "colab_type": "code",
        "colab": {
          "base_uri": "https://localhost:8080/",
          "height": 54
        },
        "outputId": "76db8875-f31b-4730-a3d6-ba0b3dccbd46"
      },
      "source": [
        "ranking = defaultdict(int)\n",
        "for i, sentence in enumerate(sentences):\n",
        "  for w in word_tokenize(sentence.lower()):\n",
        "    if w in words_frequency:\n",
        "      ranking[i] += words_frequency[w]\n",
        "print(ranking)"
      ],
      "execution_count": 48,
      "outputs": [
        {
          "output_type": "stream",
          "text": [
            "defaultdict(<class 'int'>, {0: 30, 1: 87, 2: 33, 3: 128, 4: 118, 5: 119, 6: 37, 7: 44, 8: 32, 9: 39, 10: 13, 11: 26, 12: 10, 13: 51, 14: 7, 15: 50, 16: 21, 17: 46, 18: 35, 19: 3, 20: 21, 21: 23, 22: 61, 23: 14, 24: 16, 25: 47, 26: 30, 27: 21, 28: 33, 29: 77, 30: 12, 31: 17, 32: 21, 33: 33, 34: 9, 35: 120, 36: 25, 37: 64, 38: 85, 39: 98, 40: 22})\n"
          ],
          "name": "stdout"
        }
      ]
    },
    {
      "cell_type": "markdown",
      "metadata": {
        "id": "4VQ1YxSV8OvK",
        "colab_type": "text"
      },
      "source": [
        "### Step 3: Pick the most significant sentences"
      ]
    },
    {
      "cell_type": "markdown",
      "metadata": {
        "id": "LPmhaikx8c1S",
        "colab_type": "text"
      },
      "source": [
        "Select the most important sentences (order by ranking) using the nlargest method (heapq)."
      ]
    },
    {
      "cell_type": "code",
      "metadata": {
        "id": "Krvpw7ot8S1u",
        "colab_type": "code",
        "colab": {
          "base_uri": "https://localhost:8080/",
          "height": 105
        },
        "outputId": "65bf624f-2a8a-452b-a817-d8827f602447"
      },
      "source": [
        "top_ranking = nlargest(3, ranking, key=ranking.get)\n",
        "top_sentences = [sentences[i] for i in sorted(top_ranking)]\n",
        "\n",
        "print(\"Text summary:\")\n",
        "for s in top_sentences:\n",
        "  print(s)"
      ],
      "execution_count": 51,
      "outputs": [
        {
          "output_type": "stream",
          "text": [
            "Text summary:\n",
            "And yet, the cases looked remarkably similar to one another.A study about the children, ages 13, 12, 10, and 5, published in the American Journal of Emergency Medicine, provides the first detailed look at the rapid progression of a mysterious syndrome linked to covid-19 that has alarmed public health officials.The Centers for Disease Control and Prevention earlier this month issued an alert warning doctors to be on the lookout for what they are calling multisystem inflammatory syndrome in children, or MIS-C, which is now believed to have impacted approximately 300 U.S. children.\n",
            "Each complained of different symptoms, but blood tests, imaging and heart monitoring showed they all appeared to be having an exaggerated inflammatory reaction in what doctors suspect is post-viral complication of covid-19.Christopher Strother, the director of emergency medicine at Mount Sinai, described it as the pediatric version of the cytokine storm occurring in some adults with severe illness from the novel coronavirus.ADSign up for our Coronavirus Updates newsletter to track the outbreak.\n",
            "She didnt have a rash, but after running tests, doctors discovered that her heart was beating super fast  a problem because it means the heart can have trouble filling with blood because it is contracting too rapidly  and her temperature climbed to almost 103 degrees.ADADAll four children have recovered, Strother said, and are back home now.Malcolm lost 20 pounds in during his 11-day stay the hospital, but did so well after he was off the ventilator that he walked out of the hospital to the cheers of the staff.\n"
          ],
          "name": "stdout"
        }
      ]
    }
  ]
}