{
  "nbformat": 4,
  "nbformat_minor": 0,
  "metadata": {
    "colab": {
      "name": "NLTK.ipynb",
      "provenance": [],
      "collapsed_sections": [
        "m2uQxDnJAdB5",
        "pHgG1BfzAfzr",
        "iKkLnBASAif_",
        "mByLSwBzAloL"
      ]
    },
    "kernelspec": {
      "name": "python3",
      "display_name": "Python 3"
    }
  },
  "cells": [
    {
      "cell_type": "markdown",
      "metadata": {
        "id": "Oc0tSCYKAJrj",
        "colab_type": "text"
      },
      "source": [
        "# Natural Language Processing Concepts"
      ]
    },
    {
      "cell_type": "markdown",
      "metadata": {
        "id": "gnX1lt0tAS9Z",
        "colab_type": "text"
      },
      "source": [
        "## Setup"
      ]
    },
    {
      "cell_type": "code",
      "metadata": {
        "id": "it-o6W3QByBo",
        "colab_type": "code",
        "colab": {
          "base_uri": "https://localhost:8080/",
          "height": 204
        },
        "outputId": "e3bcac7a-8ba5-4263-a069-0df363a86e84"
      },
      "source": [
        "import nltk\n",
        "nltk.download('punkt')\n",
        "nltk.download('stopwords')\n",
        "nltk.download('averaged_perceptron_tagger')\n",
        "nltk.download('wordnet')"
      ],
      "execution_count": 30,
      "outputs": [
        {
          "output_type": "stream",
          "text": [
            "[nltk_data] Downloading package punkt to /root/nltk_data...\n",
            "[nltk_data]   Package punkt is already up-to-date!\n",
            "[nltk_data] Downloading package stopwords to /root/nltk_data...\n",
            "[nltk_data]   Package stopwords is already up-to-date!\n",
            "[nltk_data] Downloading package averaged_perceptron_tagger to\n",
            "[nltk_data]     /root/nltk_data...\n",
            "[nltk_data]   Package averaged_perceptron_tagger is already up-to-\n",
            "[nltk_data]       date!\n",
            "[nltk_data] Downloading package wordnet to /root/nltk_data...\n",
            "[nltk_data]   Unzipping corpora/wordnet.zip.\n"
          ],
          "name": "stdout"
        },
        {
          "output_type": "execute_result",
          "data": {
            "text/plain": [
              "True"
            ]
          },
          "metadata": {
            "tags": []
          },
          "execution_count": 30
        }
      ]
    },
    {
      "cell_type": "code",
      "metadata": {
        "id": "QvJcWkq4_0Ss",
        "colab_type": "code",
        "colab": {}
      },
      "source": [
        "from nltk.tokenize import word_tokenize, sent_tokenize\n",
        "from nltk.corpus import stopwords, wordnet\n",
        "from nltk.collocations import *\n",
        "from nltk.stem.lancaster import LancasterStemmer\n",
        "from nltk.wsd import lesk\n",
        "from nltk import pos_tag\n",
        "from string import punctuation"
      ],
      "execution_count": 0,
      "outputs": []
    },
    {
      "cell_type": "markdown",
      "metadata": {
        "id": "m2uQxDnJAdB5",
        "colab_type": "text"
      },
      "source": [
        "## Tokenisation\n",
        "\n",
        "Consists of breaking down text into words and sentences."
      ]
    },
    {
      "cell_type": "code",
      "metadata": {
        "id": "ccZhrkPbAfS3",
        "colab_type": "code",
        "colab": {
          "base_uri": "https://localhost:8080/",
          "height": 51
        },
        "outputId": "ad7ccb59-0bc4-47e4-aefa-5da65df67dd9"
      },
      "source": [
        "text=\"Lucy has got a big dog. His fur is brown and snout cold!\"\n",
        "print(sent_tokenize(text))\n",
        "print(word_tokenize(text))"
      ],
      "execution_count": 6,
      "outputs": [
        {
          "output_type": "stream",
          "text": [
            "['Lucy has got a big dog.', 'His fur is brown and snout cold!']\n",
            "['Lucy', 'has', 'got', 'a', 'big', 'dog', '.', 'His', 'fur', 'is', 'brown', 'and', 'snout', 'cold', '!']\n"
          ],
          "name": "stdout"
        }
      ]
    },
    {
      "cell_type": "markdown",
      "metadata": {
        "id": "pHgG1BfzAfzr",
        "colab_type": "text"
      },
      "source": [
        "## Stopwords Removal\n",
        "\n",
        "Consists of filtering common words.\n",
        "\n",
        "The NLTK library has a corpus of existing words to be ignored, to what we can add more words. "
      ]
    },
    {
      "cell_type": "code",
      "metadata": {
        "id": "7zm-vwLqAiF6",
        "colab_type": "code",
        "colab": {
          "base_uri": "https://localhost:8080/",
          "height": 34
        },
        "outputId": "bd6f5b10-50b4-4e91-f7a0-bd94045ce815"
      },
      "source": [
        "text=\"Lucy has got a big dog. His fur is brown and snout cold!\"\n",
        "stop_words = set(stopwords.words('english')+list(punctuation))\n",
        "filtered_words = [w for w in word_tokenize(text) if w not in stop_words]\n",
        "print(filtered_words)"
      ],
      "execution_count": 9,
      "outputs": [
        {
          "output_type": "stream",
          "text": [
            "['Lucy', 'got', 'big', 'dog', 'His', 'fur', 'brown', 'snout', 'cold']\n"
          ],
          "name": "stdout"
        }
      ]
    },
    {
      "cell_type": "markdown",
      "metadata": {
        "id": "iKkLnBASAif_",
        "colab_type": "text"
      },
      "source": [
        "## N-Grams\n",
        "\n",
        "There are used to identify commonly occurring groups of words that usually goes together. "
      ]
    },
    {
      "cell_type": "code",
      "metadata": {
        "id": "kunaNLrRAlU_",
        "colab_type": "code",
        "colab": {
          "base_uri": "https://localhost:8080/",
          "height": 34
        },
        "outputId": "aa825bff-7870-4a2c-c2ce-eca4028a6cec"
      },
      "source": [
        "text=\"New York is a great city. Have you ever been to New York?\"\n",
        "stop_words = set(stopwords.words('english')+list(punctuation))\n",
        "filtered_words = [w for w in word_tokenize(text) if w not in stop_words]\n",
        "finder = BigramCollocationFinder.from_words(filtered_words)\n",
        "sortedItems = sorted(finder.ngram_fd.items())\n",
        "bigrams = [i for i in sortedItems if i[1] > 1]\n",
        "print(bigrams)"
      ],
      "execution_count": 17,
      "outputs": [
        {
          "output_type": "stream",
          "text": [
            "[(('New', 'York'), 2)]\n"
          ],
          "name": "stdout"
        }
      ]
    },
    {
      "cell_type": "markdown",
      "metadata": {
        "id": "mByLSwBzAloL",
        "colab_type": "text"
      },
      "source": [
        "## Stemming\n",
        "\n",
        "Stemming removes the end of some words, that keep same meaning without their suffixes.\n",
        "\n",
        "There are specific algorithms to reduce these words to their root form such as the Lancaster Stemmer.\n"
      ]
    },
    {
      "cell_type": "code",
      "metadata": {
        "id": "cI24fNoHApde",
        "colab_type": "code",
        "colab": {
          "base_uri": "https://localhost:8080/",
          "height": 54
        },
        "outputId": "803a584e-1fc9-4905-df58-10512943e3cb"
      },
      "source": [
        "text = \"John closed the store on closing night when he was in the mood to close.\"\n",
        "words = word_tokenize(text)\n",
        "stemmer = LancasterStemmer()\n",
        "stemmed_words = [stemmer.stem(word) for word in words]\n",
        "print(stemmed_words)"
      ],
      "execution_count": 18,
      "outputs": [
        {
          "output_type": "stream",
          "text": [
            "['john', 'clos', 'the', 'stor', 'on', 'clos', 'night', 'when', 'he', 'was', 'in', 'the', 'mood', 'to', 'clos', '.']\n"
          ],
          "name": "stdout"
        }
      ]
    },
    {
      "cell_type": "markdown",
      "metadata": {
        "id": "haxUkOcjAp4l",
        "colab_type": "text"
      },
      "source": [
        "## Part of Speech\n",
        "\n",
        "Determine if a word is a Noun, Verb, and Adverb...\n",
        "In the NLTK library, each type of word is identified by a tag defined here: http://www.nltk.org/book/ch05.html#tab-universal-tagset."
      ]
    },
    {
      "cell_type": "code",
      "metadata": {
        "id": "DTLzLKFPAsgp",
        "colab_type": "code",
        "colab": {
          "base_uri": "https://localhost:8080/",
          "height": 34
        },
        "outputId": "5a582fa2-a6d5-4c7d-e428-01e3a2153fbe"
      },
      "source": [
        "text = \"Steven is eating plenty of pancakes\"\n",
        "words = word_tokenize(text)\n",
        "tags = pos_tag(words)\n",
        "print (tags)"
      ],
      "execution_count": 27,
      "outputs": [
        {
          "output_type": "stream",
          "text": [
            "[('Steven', 'NNP'), ('is', 'VBZ'), ('eating', 'VBG'), ('plenty', 'NN'), ('of', 'IN'), ('pancakes', 'NNS')]\n"
          ],
          "name": "stdout"
        }
      ]
    },
    {
      "cell_type": "markdown",
      "metadata": {
        "id": "l8IKv_hiAtLD",
        "colab_type": "text"
      },
      "source": [
        "## Word meaning disambiguation\n",
        "\n",
        "Identifying the context in which the word occurs and infer its meaning.\n",
        "\n",
        "LESK is an algorithm for Word Sense Disambiguation that uses Wordnet lexicon. Depending on the context of the sentence, the right definition is selected.\n"
      ]
    },
    {
      "cell_type": "code",
      "metadata": {
        "id": "M2Z1WORbAvuQ",
        "colab_type": "code",
        "colab": {
          "base_uri": "https://localhost:8080/",
          "height": 989
        },
        "outputId": "11f845db-cf56-44b1-dc3f-fa55f139dac0"
      },
      "source": [
        "print(\"Lexicon for the word 'play'\")\n",
        "for ss in wordnet.synsets('play'):\n",
        "    print(ss, ss.definition())\n",
        "\n",
        "print(\"LESK Algo\")\n",
        "cool_meaning = lesk(word_tokenize(\"He was asked to play the role of Mozard in the comedy show\"), 'play')\n",
        "print(str(cool_meaning) + \" \" + cool_meaning.definition())\n",
        "cool_meaning = lesk(word_tokenize(\"Can I play of this instrument?\"), 'play')\n",
        "print(str(cool_meaning) + \" \" + cool_meaning.definition())"
      ],
      "execution_count": 42,
      "outputs": [
        {
          "output_type": "stream",
          "text": [
            "Lexicon for the word 'play'\n",
            "Synset('play.n.01') a dramatic work intended for performance by actors on a stage\n",
            "Synset('play.n.02') a theatrical performance of a drama\n",
            "Synset('play.n.03') a preset plan of action in team sports\n",
            "Synset('maneuver.n.03') a deliberate coordinated movement requiring dexterity and skill\n",
            "Synset('play.n.05') a state in which action is feasible\n",
            "Synset('play.n.06') utilization or exercise\n",
            "Synset('bid.n.02') an attempt to get something\n",
            "Synset('play.n.08') activity by children that is guided more by imagination than by fixed rules\n",
            "Synset('playing_period.n.01') (in games or plays or other performances) the time during which play proceeds\n",
            "Synset('free_rein.n.01') the removal of constraints\n",
            "Synset('shimmer.n.01') a weak and tremulous light\n",
            "Synset('fun.n.02') verbal wit or mockery (often at another's expense but not to be taken seriously)\n",
            "Synset('looseness.n.05') movement or space for movement\n",
            "Synset('play.n.14') gay or light-hearted recreational activity for diversion or amusement\n",
            "Synset('turn.n.03') (game) the activity of doing something in an agreed succession\n",
            "Synset('gambling.n.01') the act of playing for stakes in the hope of winning (including the payment of a price for a chance to win a prize)\n",
            "Synset('play.n.17') the act using a sword (or other weapon) vigorously and skillfully\n",
            "Synset('play.v.01') participate in games or sport\n",
            "Synset('play.v.02') act or have an effect in a specified way or with a specific effect or outcome\n",
            "Synset('play.v.03') play on an instrument\n",
            "Synset('act.v.03') play a role or part\n",
            "Synset('play.v.05') be at play; be engaged in playful activity; amuse oneself in a way characteristic of children\n",
            "Synset('play.v.06') replay (as a melody)\n",
            "Synset('play.v.07') perform music on (a musical instrument)\n",
            "Synset('act.v.05') pretend to have certain qualities or state of mind\n",
            "Synset('play.v.09') move or seem to move quickly, lightly, or irregularly\n",
            "Synset('play.v.10') bet or wager (money)\n",
            "Synset('play.v.11') engage in recreational activities rather than work; occupy oneself in a diversion\n",
            "Synset('play.v.12') pretend to be somebody in the framework of a game or playful activity\n",
            "Synset('play.v.13') emit recorded sound\n",
            "Synset('play.v.14') perform on a certain location\n",
            "Synset('play.v.15') put (a card or piece) into play during a game, or act strategically as if in a card game\n",
            "Synset('play.v.16') engage in an activity as if it were a game rather than take it seriously\n",
            "Synset('play.v.17') behave in a certain way\n",
            "Synset('play.v.18') cause to emit recorded audio or video\n",
            "Synset('toy.v.02') manipulate manually or in one's mind or imagination\n",
            "Synset('play.v.20') use to one's advantage\n",
            "Synset('dally.v.04') consider not very seriously\n",
            "Synset('play.v.22') be received or accepted or interpreted in a specific way\n",
            "Synset('dally.v.01') behave carelessly or indifferently\n",
            "Synset('play.v.24') cause to move or operate freely within a bounded space\n",
            "Synset('act.v.10') perform on a stage or theater\n",
            "Synset('play.v.26') be performed or presented for public viewing\n",
            "Synset('bring.v.03') cause to happen or to occur as a consequence\n",
            "Synset('play.v.28') discharge or direct or be discharged or directed as if in a continuous stream\n",
            "Synset('play.v.29') make bets\n",
            "Synset('bet.v.02') stake on the outcome of an issue\n",
            "Synset('play.v.31') shoot or hit in a particular manner\n",
            "Synset('play.v.32') use or move\n",
            "Synset('play.v.33') employ in a game or in a specific position\n",
            "Synset('meet.v.10') contend against an opponent in a sport, game, or battle\n",
            "Synset('play.v.35') exhaust by allowing to pull on the line\n",
            "LESK Algo\n",
            "Synset('play.v.12') pretend to be somebody in the framework of a game or playful activity\n",
            "Synset('play.v.03') play on an instrument\n"
          ],
          "name": "stdout"
        }
      ]
    }
  ]
}